{
 "cells": [
  {
   "cell_type": "markdown",
   "metadata": {
    "heading_collapsed": true
   },
   "source": [
    "# load"
   ]
  },
  {
   "cell_type": "code",
   "execution_count": 1,
   "metadata": {
    "ExecuteTime": {
     "end_time": "2022-03-30T11:29:28.040689Z",
     "start_time": "2022-03-30T11:29:28.026570Z"
    },
    "hidden": true,
    "tags": []
   },
   "outputs": [],
   "source": [
    "%load_ext autoreload\n",
    "%autoreload 2"
   ]
  },
  {
   "cell_type": "code",
   "execution_count": 1,
   "metadata": {
    "ExecuteTime": {
     "end_time": "2022-03-30T11:33:04.086786Z",
     "start_time": "2022-03-30T11:33:03.528142Z"
    },
    "hidden": true
   },
   "outputs": [],
   "source": [
    "import pandas as pd\n",
    "\n",
    "import numpy as np\n",
    "\n",
    "from pathlib import Path\n",
    "\n",
    "from tqdm.notebook import tqdm\n",
    "\n",
    "import lifelines\n",
    "\n",
    "from sklearn.decomposition import PCA\n",
    "from sklearn.model_selection import StratifiedGroupKFold\n",
    "\n",
    "import warnings\n",
    "warnings.filterwarnings(action='ignore')\n",
    "\n",
    "import matplotlib.pyplot as plt\n",
    "\n",
    "import copy as cp\n",
    "\n",
    "import pickle as pkl"
   ]
  },
  {
   "cell_type": "markdown",
   "metadata": {
    "heading_collapsed": true
   },
   "source": [
    "# Survival data"
   ]
  },
  {
   "cell_type": "code",
   "execution_count": 31,
   "metadata": {
    "ExecuteTime": {
     "end_time": "2022-03-30T13:41:09.670814Z",
     "start_time": "2022-03-30T13:41:09.667665Z"
    },
    "code_folding": [],
    "hidden": true
   },
   "outputs": [],
   "source": [
    "# load survival\n",
    "def load_survival(\n",
    "    cancer,\n",
    "    path_to_clinical=Path('/Data_hackathon/train.csv')\n",
    "):\n",
    "    \"\"\"Load a dataframe containing OS data.\n",
    "    \n",
    "    Parameters\n",
    "    ----------\n",
    "    cancer: str\n",
    "        One of the TCGA project ids (e.g. 'TCGA-LIHC')\n",
    "    path_to_clinical: str or PosixPath\n",
    "        Path to the csv file containing TCGA clinical data\n",
    "\n",
    "    Returns\n",
    "    -------\n",
    "    df: DataFrame\n",
    "        Dataframe with columns 'submitter_id', 'OS_time' and 'OS_event'\n",
    "    \"\"\"\n",
    "    df = pd.read_csv(path_to_clinical)\n",
    "    if cancer != 'pancancer':\n",
    "        df = df.loc[df['cancer'] == cancer]\n",
    "    return df"
   ]
  },
  {
   "cell_type": "code",
   "execution_count": 21,
   "metadata": {
    "ExecuteTime": {
     "end_time": "2022-03-30T12:22:47.280779Z",
     "start_time": "2022-03-30T12:22:47.270199Z"
    },
    "hidden": true
   },
   "outputs": [
    {
     "data": {
      "text/html": [
       "<div>\n",
       "<style scoped>\n",
       "    .dataframe tbody tr th:only-of-type {\n",
       "        vertical-align: middle;\n",
       "    }\n",
       "\n",
       "    .dataframe tbody tr th {\n",
       "        vertical-align: top;\n",
       "    }\n",
       "\n",
       "    .dataframe thead th {\n",
       "        text-align: right;\n",
       "    }\n",
       "</style>\n",
       "<table border=\"1\" class=\"dataframe\">\n",
       "  <thead>\n",
       "    <tr style=\"text-align: right;\">\n",
       "      <th></th>\n",
       "      <th>patient</th>\n",
       "      <th>time</th>\n",
       "      <th>event</th>\n",
       "      <th>cancer</th>\n",
       "      <th>cancer_sub</th>\n",
       "    </tr>\n",
       "  </thead>\n",
       "  <tbody>\n",
       "    <tr>\n",
       "      <th>1709</th>\n",
       "      <td>TCGA-05-4244</td>\n",
       "      <td>0</td>\n",
       "      <td>0</td>\n",
       "      <td>TCGA-NSCLC</td>\n",
       "      <td>TCGA-LUAD</td>\n",
       "    </tr>\n",
       "    <tr>\n",
       "      <th>1710</th>\n",
       "      <td>TCGA-05-4249</td>\n",
       "      <td>1523</td>\n",
       "      <td>0</td>\n",
       "      <td>TCGA-NSCLC</td>\n",
       "      <td>TCGA-LUAD</td>\n",
       "    </tr>\n",
       "    <tr>\n",
       "      <th>1711</th>\n",
       "      <td>TCGA-05-4250</td>\n",
       "      <td>121</td>\n",
       "      <td>1</td>\n",
       "      <td>TCGA-NSCLC</td>\n",
       "      <td>TCGA-LUAD</td>\n",
       "    </tr>\n",
       "    <tr>\n",
       "      <th>1712</th>\n",
       "      <td>TCGA-05-4382</td>\n",
       "      <td>607</td>\n",
       "      <td>0</td>\n",
       "      <td>TCGA-NSCLC</td>\n",
       "      <td>TCGA-LUAD</td>\n",
       "    </tr>\n",
       "    <tr>\n",
       "      <th>1713</th>\n",
       "      <td>TCGA-05-4390</td>\n",
       "      <td>1126</td>\n",
       "      <td>0</td>\n",
       "      <td>TCGA-NSCLC</td>\n",
       "      <td>TCGA-LUAD</td>\n",
       "    </tr>\n",
       "    <tr>\n",
       "      <th>...</th>\n",
       "      <td>...</td>\n",
       "      <td>...</td>\n",
       "      <td>...</td>\n",
       "      <td>...</td>\n",
       "      <td>...</td>\n",
       "    </tr>\n",
       "    <tr>\n",
       "      <th>2217</th>\n",
       "      <td>TCGA-XD-AAUL</td>\n",
       "      <td>498</td>\n",
       "      <td>0</td>\n",
       "      <td>TCGA-PAAD</td>\n",
       "      <td>TCGA-PAAD</td>\n",
       "    </tr>\n",
       "    <tr>\n",
       "      <th>2218</th>\n",
       "      <td>TCGA-XN-A8T3</td>\n",
       "      <td>951</td>\n",
       "      <td>0</td>\n",
       "      <td>TCGA-PAAD</td>\n",
       "      <td>TCGA-PAAD</td>\n",
       "    </tr>\n",
       "    <tr>\n",
       "      <th>2219</th>\n",
       "      <td>TCGA-YB-A89D</td>\n",
       "      <td>350</td>\n",
       "      <td>0</td>\n",
       "      <td>TCGA-PAAD</td>\n",
       "      <td>TCGA-PAAD</td>\n",
       "    </tr>\n",
       "    <tr>\n",
       "      <th>2220</th>\n",
       "      <td>TCGA-YY-A8LH</td>\n",
       "      <td>2016</td>\n",
       "      <td>0</td>\n",
       "      <td>TCGA-PAAD</td>\n",
       "      <td>TCGA-PAAD</td>\n",
       "    </tr>\n",
       "    <tr>\n",
       "      <th>2221</th>\n",
       "      <td>TCGA-Z5-AAPL</td>\n",
       "      <td>467</td>\n",
       "      <td>0</td>\n",
       "      <td>TCGA-PAAD</td>\n",
       "      <td>TCGA-PAAD</td>\n",
       "    </tr>\n",
       "  </tbody>\n",
       "</table>\n",
       "<p>1374 rows × 5 columns</p>\n",
       "</div>"
      ],
      "text/plain": [
       "           patient  time  event      cancer cancer_sub\n",
       "1709  TCGA-05-4244     0      0  TCGA-NSCLC  TCGA-LUAD\n",
       "1710  TCGA-05-4249  1523      0  TCGA-NSCLC  TCGA-LUAD\n",
       "1711  TCGA-05-4250   121      1  TCGA-NSCLC  TCGA-LUAD\n",
       "1712  TCGA-05-4382   607      0  TCGA-NSCLC  TCGA-LUAD\n",
       "1713  TCGA-05-4390  1126      0  TCGA-NSCLC  TCGA-LUAD\n",
       "...            ...   ...    ...         ...        ...\n",
       "2217  TCGA-XD-AAUL   498      0   TCGA-PAAD  TCGA-PAAD\n",
       "2218  TCGA-XN-A8T3   951      0   TCGA-PAAD  TCGA-PAAD\n",
       "2219  TCGA-YB-A89D   350      0   TCGA-PAAD  TCGA-PAAD\n",
       "2220  TCGA-YY-A8LH  2016      0   TCGA-PAAD  TCGA-PAAD\n",
       "2221  TCGA-Z5-AAPL   467      0   TCGA-PAAD  TCGA-PAAD\n",
       "\n",
       "[1374 rows x 5 columns]"
      ]
     },
     "execution_count": 21,
     "metadata": {},
     "output_type": "execute_result"
    }
   ],
   "source": [
    "df"
   ]
  },
  {
   "cell_type": "code",
   "execution_count": 32,
   "metadata": {
    "ExecuteTime": {
     "end_time": "2022-03-30T13:41:12.164356Z",
     "start_time": "2022-03-30T13:41:12.134023Z"
    },
    "code_folding": [],
    "hidden": true
   },
   "outputs": [],
   "source": [
    "# load\n",
    "df = load_survival(\n",
    "    cancer='TCGA-LUAD'\n",
    ")\n",
    "df = pd.concat(\n",
    "    [df,\n",
    "    load_survival(cancer='TCGA-LUSC')]\n",
    ")\n",
    "df = pd.concat(\n",
    "    [df,\n",
    "    load_survival(cancer='TCGA-COAD')]\n",
    ")\n",
    "df = pd.concat(\n",
    "    [df,\n",
    "    load_survival(cancer='TCGA-READ')]\n",
    ")\n",
    "df = pd.concat(\n",
    "    [df,\n",
    "    load_survival(cancer='TCGA-PAAD')]\n",
    ")\n",
    "\n",
    "dic = {\n",
    "    'TCGA-LUAD': 'TCGA-NSCLC',\n",
    "    'TCGA-LUSC': 'TCGA-NSCLC',\n",
    "    'TCGA-COAD': 'TCGA-CRC',\n",
    "    'TCGA-READ': 'TCGA-CRC',\n",
    "    'TCGA-PAAD': 'TCGA-PAAD',\n",
    "}\n",
    "df['cancer_sub'] = df['cancer']\n",
    "df['cancer'] = df['cancer'].map(dic)"
   ]
  },
  {
   "cell_type": "code",
   "execution_count": 33,
   "metadata": {
    "ExecuteTime": {
     "end_time": "2022-03-30T13:41:12.369094Z",
     "start_time": "2022-03-30T13:41:12.365680Z"
    },
    "hidden": true
   },
   "outputs": [
    {
     "data": {
      "text/plain": [
       "dict_keys(['TCGA-LUAD', 'TCGA-LUSC', 'TCGA-COAD', 'TCGA-READ', 'TCGA-PAAD'])"
      ]
     },
     "execution_count": 33,
     "metadata": {},
     "output_type": "execute_result"
    }
   ],
   "source": [
    "dic.keys()"
   ]
  },
  {
   "cell_type": "code",
   "execution_count": 34,
   "metadata": {
    "ExecuteTime": {
     "end_time": "2022-03-30T13:41:13.261837Z",
     "start_time": "2022-03-30T13:41:13.035446Z"
    },
    "hidden": true
   },
   "outputs": [
    {
     "data": {
      "image/png": "[encoded data removed]",
      "text/plain": [
       "<Figure size 576x360 with 1 Axes>"
      ]
     },
     "metadata": {
      "needs_background": "light"
     },
     "output_type": "display_data"
    }
   ],
   "source": [
    "plt.figure(figsize=(8, 5))\n",
    "for cancer in df['cancer'].unique():\n",
    "    df_tmp = df.loc[df['cancer'] == cancer]\n",
    "    km = lifelines.KaplanMeierFitter()\n",
    "    km.fit(df_tmp['time'], df_tmp['event'])\n",
    "    km.plot(label=cancer)\n",
    "plt.grid()\n",
    "plt.show()"
   ]
  },
  {
   "cell_type": "code",
   "execution_count": 35,
   "metadata": {
    "ExecuteTime": {
     "end_time": "2022-03-30T13:41:15.447297Z",
     "start_time": "2022-03-30T13:41:15.440012Z"
    },
    "hidden": true
   },
   "outputs": [],
   "source": [
    "df_test = pd.read_csv('/Data_hackathon/test.csv')\n",
    "df_test['cancer_sub'] = df_test['cancer']\n",
    "df_test['cancer'] = df_test['cancer'].map(dic)"
   ]
  },
  {
   "cell_type": "code",
   "execution_count": 36,
   "metadata": {
    "ExecuteTime": {
     "end_time": "2022-03-30T13:41:15.766377Z",
     "start_time": "2022-03-30T13:41:15.753933Z"
    },
    "hidden": true
   },
   "outputs": [
    {
     "data": {
      "text/html": [
       "<div>\n",
       "<style scoped>\n",
       "    .dataframe tbody tr th:only-of-type {\n",
       "        vertical-align: middle;\n",
       "    }\n",
       "\n",
       "    .dataframe tbody tr th {\n",
       "        vertical-align: top;\n",
       "    }\n",
       "\n",
       "    .dataframe thead th {\n",
       "        text-align: right;\n",
       "    }\n",
       "</style>\n",
       "<table border=\"1\" class=\"dataframe\">\n",
       "  <thead>\n",
       "    <tr style=\"text-align: right;\">\n",
       "      <th></th>\n",
       "      <th>patient</th>\n",
       "      <th>risk</th>\n",
       "      <th>event</th>\n",
       "      <th>cancer</th>\n",
       "      <th>cancer_sub</th>\n",
       "    </tr>\n",
       "  </thead>\n",
       "  <tbody>\n",
       "    <tr>\n",
       "      <th>0</th>\n",
       "      <td>TCGA-4H-AAAK</td>\n",
       "      <td>0</td>\n",
       "      <td>0</td>\n",
       "      <td>NaN</td>\n",
       "      <td>TCGA-BRCA</td>\n",
       "    </tr>\n",
       "    <tr>\n",
       "      <th>1</th>\n",
       "      <td>TCGA-A1-A0SE</td>\n",
       "      <td>0</td>\n",
       "      <td>0</td>\n",
       "      <td>NaN</td>\n",
       "      <td>TCGA-BRCA</td>\n",
       "    </tr>\n",
       "    <tr>\n",
       "      <th>2</th>\n",
       "      <td>TCGA-A1-A0SP</td>\n",
       "      <td>0</td>\n",
       "      <td>0</td>\n",
       "      <td>NaN</td>\n",
       "      <td>TCGA-BRCA</td>\n",
       "    </tr>\n",
       "    <tr>\n",
       "      <th>3</th>\n",
       "      <td>TCGA-A2-A04R</td>\n",
       "      <td>0</td>\n",
       "      <td>0</td>\n",
       "      <td>NaN</td>\n",
       "      <td>TCGA-BRCA</td>\n",
       "    </tr>\n",
       "    <tr>\n",
       "      <th>4</th>\n",
       "      <td>TCGA-A2-A04V</td>\n",
       "      <td>0</td>\n",
       "      <td>1</td>\n",
       "      <td>NaN</td>\n",
       "      <td>TCGA-BRCA</td>\n",
       "    </tr>\n",
       "    <tr>\n",
       "      <th>...</th>\n",
       "      <td>...</td>\n",
       "      <td>...</td>\n",
       "      <td>...</td>\n",
       "      <td>...</td>\n",
       "      <td>...</td>\n",
       "    </tr>\n",
       "    <tr>\n",
       "      <th>715</th>\n",
       "      <td>TCGA-WE-A8ZM</td>\n",
       "      <td>0</td>\n",
       "      <td>0</td>\n",
       "      <td>NaN</td>\n",
       "      <td>TCGA-SKCM</td>\n",
       "    </tr>\n",
       "    <tr>\n",
       "      <th>716</th>\n",
       "      <td>TCGA-WE-A8ZR</td>\n",
       "      <td>0</td>\n",
       "      <td>1</td>\n",
       "      <td>NaN</td>\n",
       "      <td>TCGA-SKCM</td>\n",
       "    </tr>\n",
       "    <tr>\n",
       "      <th>717</th>\n",
       "      <td>TCGA-XV-AB01</td>\n",
       "      <td>0</td>\n",
       "      <td>0</td>\n",
       "      <td>NaN</td>\n",
       "      <td>TCGA-SKCM</td>\n",
       "    </tr>\n",
       "    <tr>\n",
       "      <th>718</th>\n",
       "      <td>TCGA-YD-A89C</td>\n",
       "      <td>0</td>\n",
       "      <td>0</td>\n",
       "      <td>NaN</td>\n",
       "      <td>TCGA-SKCM</td>\n",
       "    </tr>\n",
       "    <tr>\n",
       "      <th>719</th>\n",
       "      <td>TCGA-YG-AA3P</td>\n",
       "      <td>0</td>\n",
       "      <td>0</td>\n",
       "      <td>NaN</td>\n",
       "      <td>TCGA-SKCM</td>\n",
       "    </tr>\n",
       "  </tbody>\n",
       "</table>\n",
       "<p>720 rows × 5 columns</p>\n",
       "</div>"
      ],
      "text/plain": [
       "          patient  risk  event cancer cancer_sub\n",
       "0    TCGA-4H-AAAK     0      0    NaN  TCGA-BRCA\n",
       "1    TCGA-A1-A0SE     0      0    NaN  TCGA-BRCA\n",
       "2    TCGA-A1-A0SP     0      0    NaN  TCGA-BRCA\n",
       "3    TCGA-A2-A04R     0      0    NaN  TCGA-BRCA\n",
       "4    TCGA-A2-A04V     0      1    NaN  TCGA-BRCA\n",
       "..            ...   ...    ...    ...        ...\n",
       "715  TCGA-WE-A8ZM     0      0    NaN  TCGA-SKCM\n",
       "716  TCGA-WE-A8ZR     0      1    NaN  TCGA-SKCM\n",
       "717  TCGA-XV-AB01     0      0    NaN  TCGA-SKCM\n",
       "718  TCGA-YD-A89C     0      0    NaN  TCGA-SKCM\n",
       "719  TCGA-YG-AA3P     0      0    NaN  TCGA-SKCM\n",
       "\n",
       "[720 rows x 5 columns]"
      ]
     },
     "execution_count": 36,
     "metadata": {},
     "output_type": "execute_result"
    }
   ],
   "source": [
    "df_test"
   ]
  },
  {
   "cell_type": "code",
   "execution_count": 37,
   "metadata": {
    "ExecuteTime": {
     "end_time": "2022-03-30T13:41:16.279010Z",
     "start_time": "2022-03-30T13:41:16.265092Z"
    },
    "hidden": true
   },
   "outputs": [
    {
     "data": {
      "text/html": [
       "<div>\n",
       "<style scoped>\n",
       "    .dataframe tbody tr th:only-of-type {\n",
       "        vertical-align: middle;\n",
       "    }\n",
       "\n",
       "    .dataframe tbody tr th {\n",
       "        vertical-align: top;\n",
       "    }\n",
       "\n",
       "    .dataframe thead th {\n",
       "        text-align: right;\n",
       "    }\n",
       "</style>\n",
       "<table border=\"1\" class=\"dataframe\">\n",
       "  <thead>\n",
       "    <tr style=\"text-align: right;\">\n",
       "      <th></th>\n",
       "      <th>patient</th>\n",
       "      <th>risk</th>\n",
       "      <th>event</th>\n",
       "      <th>cancer</th>\n",
       "      <th>cancer_sub</th>\n",
       "    </tr>\n",
       "  </thead>\n",
       "  <tbody>\n",
       "    <tr>\n",
       "      <th>212</th>\n",
       "      <td>TCGA-5M-AAT6</td>\n",
       "      <td>0</td>\n",
       "      <td>1</td>\n",
       "      <td>TCGA-CRC</td>\n",
       "      <td>TCGA-COAD</td>\n",
       "    </tr>\n",
       "    <tr>\n",
       "      <th>213</th>\n",
       "      <td>TCGA-A6-2671</td>\n",
       "      <td>0</td>\n",
       "      <td>1</td>\n",
       "      <td>TCGA-CRC</td>\n",
       "      <td>TCGA-COAD</td>\n",
       "    </tr>\n",
       "    <tr>\n",
       "      <th>214</th>\n",
       "      <td>TCGA-A6-2672</td>\n",
       "      <td>0</td>\n",
       "      <td>0</td>\n",
       "      <td>TCGA-CRC</td>\n",
       "      <td>TCGA-COAD</td>\n",
       "    </tr>\n",
       "    <tr>\n",
       "      <th>215</th>\n",
       "      <td>TCGA-A6-2674</td>\n",
       "      <td>0</td>\n",
       "      <td>0</td>\n",
       "      <td>TCGA-CRC</td>\n",
       "      <td>TCGA-COAD</td>\n",
       "    </tr>\n",
       "    <tr>\n",
       "      <th>216</th>\n",
       "      <td>TCGA-A6-2675</td>\n",
       "      <td>0</td>\n",
       "      <td>0</td>\n",
       "      <td>TCGA-CRC</td>\n",
       "      <td>TCGA-COAD</td>\n",
       "    </tr>\n",
       "    <tr>\n",
       "      <th>...</th>\n",
       "      <td>...</td>\n",
       "      <td>...</td>\n",
       "      <td>...</td>\n",
       "      <td>...</td>\n",
       "      <td>...</td>\n",
       "    </tr>\n",
       "    <tr>\n",
       "      <th>550</th>\n",
       "      <td>TCGA-IB-7888</td>\n",
       "      <td>0</td>\n",
       "      <td>1</td>\n",
       "      <td>TCGA-PAAD</td>\n",
       "      <td>TCGA-PAAD</td>\n",
       "    </tr>\n",
       "    <tr>\n",
       "      <th>551</th>\n",
       "      <td>TCGA-IB-A7LX</td>\n",
       "      <td>0</td>\n",
       "      <td>1</td>\n",
       "      <td>TCGA-PAAD</td>\n",
       "      <td>TCGA-PAAD</td>\n",
       "    </tr>\n",
       "    <tr>\n",
       "      <th>552</th>\n",
       "      <td>TCGA-IB-AAUR</td>\n",
       "      <td>0</td>\n",
       "      <td>0</td>\n",
       "      <td>TCGA-PAAD</td>\n",
       "      <td>TCGA-PAAD</td>\n",
       "    </tr>\n",
       "    <tr>\n",
       "      <th>553</th>\n",
       "      <td>TCGA-OE-A75W</td>\n",
       "      <td>0</td>\n",
       "      <td>1</td>\n",
       "      <td>TCGA-PAAD</td>\n",
       "      <td>TCGA-PAAD</td>\n",
       "    </tr>\n",
       "    <tr>\n",
       "      <th>554</th>\n",
       "      <td>TCGA-XN-A8T5</td>\n",
       "      <td>0</td>\n",
       "      <td>0</td>\n",
       "      <td>TCGA-PAAD</td>\n",
       "      <td>TCGA-PAAD</td>\n",
       "    </tr>\n",
       "  </tbody>\n",
       "</table>\n",
       "<p>343 rows × 5 columns</p>\n",
       "</div>"
      ],
      "text/plain": [
       "          patient  risk  event     cancer cancer_sub\n",
       "212  TCGA-5M-AAT6     0      1   TCGA-CRC  TCGA-COAD\n",
       "213  TCGA-A6-2671     0      1   TCGA-CRC  TCGA-COAD\n",
       "214  TCGA-A6-2672     0      0   TCGA-CRC  TCGA-COAD\n",
       "215  TCGA-A6-2674     0      0   TCGA-CRC  TCGA-COAD\n",
       "216  TCGA-A6-2675     0      0   TCGA-CRC  TCGA-COAD\n",
       "..            ...   ...    ...        ...        ...\n",
       "550  TCGA-IB-7888     0      1  TCGA-PAAD  TCGA-PAAD\n",
       "551  TCGA-IB-A7LX     0      1  TCGA-PAAD  TCGA-PAAD\n",
       "552  TCGA-IB-AAUR     0      0  TCGA-PAAD  TCGA-PAAD\n",
       "553  TCGA-OE-A75W     0      1  TCGA-PAAD  TCGA-PAAD\n",
       "554  TCGA-XN-A8T5     0      0  TCGA-PAAD  TCGA-PAAD\n",
       "\n",
       "[343 rows x 5 columns]"
      ]
     },
     "execution_count": 37,
     "metadata": {},
     "output_type": "execute_result"
    }
   ],
   "source": [
    "c = dic.keys()\n",
    "df_test.query('cancer_sub in @c')"
   ]
  },
  {
   "cell_type": "code",
   "execution_count": 38,
   "metadata": {
    "ExecuteTime": {
     "end_time": "2022-03-30T13:41:16.801495Z",
     "start_time": "2022-03-30T13:41:16.796400Z"
    },
    "hidden": true
   },
   "outputs": [
    {
     "data": {
      "text/plain": [
       "TCGA-BRCA    212\n",
       "TCGA-LUSC     94\n",
       "TCGA-LUAD     93\n",
       "TCGA-COAD     89\n",
       "TCGA-SKCM     85\n",
       "TCGA-PRAD     80\n",
       "TCGA-PAAD     35\n",
       "TCGA-READ     32\n",
       "Name: cancer_sub, dtype: int64"
      ]
     },
     "execution_count": 38,
     "metadata": {},
     "output_type": "execute_result"
    }
   ],
   "source": [
    "df_test['cancer_sub'].value_counts()"
   ]
  },
  {
   "cell_type": "markdown",
   "metadata": {
    "heading_collapsed": true
   },
   "source": [
    "# Histo mean pool"
   ]
  },
  {
   "cell_type": "code",
   "execution_count": 87,
   "metadata": {
    "ExecuteTime": {
     "end_time": "2022-03-30T14:17:32.229984Z",
     "start_time": "2022-03-30T14:17:32.225860Z"
    },
    "code_folding": [
     0
    ],
    "hidden": true
   },
   "outputs": [],
   "source": [
    "def load_mean_pool_data(df, path_to_features=Path('/hdd1/TCGA_PAAD_moco_full_tiling/')):\n",
    "    \"\"\"Load averaged histological features.\n",
    "    \n",
    "    Parameters\n",
    "    ----------\n",
    "    df: DataFrame\n",
    "        Dataframe containing survival data\n",
    "    path_to_features: PosixPath\n",
    "        Path to the folder containing features (ttv2 format)\n",
    "\n",
    "    Returns\n",
    "    -------\n",
    "    X: numpy array\n",
    "        feature matrix with size (n_samples, 2048)\n",
    "    ids: numpy array\n",
    "        list of patient identifiers\n",
    "    \"\"\"\n",
    "    X = []\n",
    "    ids = []\n",
    "    for path in tqdm(list(path_to_features.glob(f'*/features.npy'))):\n",
    "        filename = str(path).split('/')[-2]\n",
    "        patient = filename[:12]\n",
    "        if patient in df['patient'].values:\n",
    "            x = np.load(path)\n",
    "            X.append(np.mean(x, axis=0)[3:])  # Remove tile coordinates\n",
    "            ids.append(patient)\n",
    "    return np.array(X), np.array(ids)"
   ]
  },
  {
   "cell_type": "code",
   "execution_count": 88,
   "metadata": {
    "ExecuteTime": {
     "end_time": "2022-03-30T14:17:38.634275Z",
     "start_time": "2022-03-30T14:17:32.613582Z"
    },
    "code_folding": [
     0
    ],
    "hidden": true,
    "scrolled": false
   },
   "outputs": [
    {
     "data": {
      "application/vnd.jupyter.widget-view+json": {
       "model_id": "b8de5fc12c084913b6c31e4620cbc96b",
       "version_major": 2,
       "version_minor": 0
      },
      "text/plain": [
       "  0%|          | 0/528 [00:00<?, ?it/s]"
      ]
     },
     "metadata": {},
     "output_type": "display_data"
    },
    {
     "data": {
      "application/vnd.jupyter.widget-view+json": {
       "model_id": "9dcd3cbba4ad4d4d966540fa841bb330",
       "version_major": 2,
       "version_minor": 0
      },
      "text/plain": [
       "  0%|          | 0/513 [00:00<?, ?it/s]"
      ]
     },
     "metadata": {},
     "output_type": "display_data"
    },
    {
     "data": {
      "application/vnd.jupyter.widget-view+json": {
       "model_id": "847dda8fe5ea416293dae5e0d24b72ab",
       "version_major": 2,
       "version_minor": 0
      },
      "text/plain": [
       "  0%|          | 0/452 [00:00<?, ?it/s]"
      ]
     },
     "metadata": {},
     "output_type": "display_data"
    },
    {
     "data": {
      "application/vnd.jupyter.widget-view+json": {
       "model_id": "32e70651dcdb4f95bd35621b1d890ac8",
       "version_major": 2,
       "version_minor": 0
      },
      "text/plain": [
       "  0%|          | 0/159 [00:00<?, ?it/s]"
      ]
     },
     "metadata": {},
     "output_type": "display_data"
    },
    {
     "data": {
      "application/vnd.jupyter.widget-view+json": {
       "model_id": "2696cc97bbd54c1085ed53a4a305bdaf",
       "version_major": 2,
       "version_minor": 0
      },
      "text/plain": [
       "  0%|          | 0/209 [00:00<?, ?it/s]"
      ]
     },
     "metadata": {},
     "output_type": "display_data"
    }
   ],
   "source": [
    "# Load data for CV\n",
    "X, ids = load_mean_pool_data(df, path_to_features=Path('/Data_hackathon/MocoCoadReduced/TCGA_LUAD/'))\n",
    "X_, ids_ = load_mean_pool_data(df, path_to_features=Path('/Data_hackathon/MocoCoadReduced/TCGA_LUSC/'))\n",
    "X = np.concatenate([X, X_])\n",
    "ids = np.concatenate([ids, ids_])\n",
    "\n",
    "X_, ids_ = load_mean_pool_data(df, path_to_features=Path('/Data_hackathon/MocoCoadReduced/TCGA_COAD/'))\n",
    "X = np.concatenate([X, X_])\n",
    "ids = np.concatenate([ids, ids_])\n",
    "\n",
    "X_, ids_ = load_mean_pool_data(df, path_to_features=Path('/Data_hackathon/MocoCoadReduced/TCGA_READ/'))\n",
    "X = np.concatenate([X, X_])\n",
    "ids = np.concatenate([ids, ids_])\n",
    "\n",
    "X_, ids_ = load_mean_pool_data(df, path_to_features=Path('/Data_hackathon/MocoCoadReduced/TCGA_PAAD/'))\n",
    "X = np.concatenate([X, X_])\n",
    "ids = np.concatenate([ids, ids_])"
   ]
  },
  {
   "cell_type": "code",
   "execution_count": 89,
   "metadata": {
    "ExecuteTime": {
     "end_time": "2022-03-30T14:17:39.917708Z",
     "start_time": "2022-03-30T14:17:38.635834Z"
    },
    "code_folding": [
     0
    ],
    "hidden": true
   },
   "outputs": [
    {
     "data": {
      "application/vnd.jupyter.widget-view+json": {
       "model_id": "043d07b036c8466a82dea3f1b2b24d58",
       "version_major": 2,
       "version_minor": 0
      },
      "text/plain": [
       "  0%|          | 0/528 [00:00<?, ?it/s]"
      ]
     },
     "metadata": {},
     "output_type": "display_data"
    },
    {
     "data": {
      "application/vnd.jupyter.widget-view+json": {
       "model_id": "294361218a1c49a39cea843bf5a550cb",
       "version_major": 2,
       "version_minor": 0
      },
      "text/plain": [
       "  0%|          | 0/513 [00:00<?, ?it/s]"
      ]
     },
     "metadata": {},
     "output_type": "display_data"
    },
    {
     "data": {
      "application/vnd.jupyter.widget-view+json": {
       "model_id": "fadabb6871d84d66b167f25c3700648e",
       "version_major": 2,
       "version_minor": 0
      },
      "text/plain": [
       "  0%|          | 0/452 [00:00<?, ?it/s]"
      ]
     },
     "metadata": {},
     "output_type": "display_data"
    },
    {
     "data": {
      "application/vnd.jupyter.widget-view+json": {
       "model_id": "5bb454d5604b422ab008c626314ac494",
       "version_major": 2,
       "version_minor": 0
      },
      "text/plain": [
       "  0%|          | 0/159 [00:00<?, ?it/s]"
      ]
     },
     "metadata": {},
     "output_type": "display_data"
    },
    {
     "data": {
      "application/vnd.jupyter.widget-view+json": {
       "model_id": "d4c6d67def9146f788a8306948a2dbe1",
       "version_major": 2,
       "version_minor": 0
      },
      "text/plain": [
       "  0%|          | 0/209 [00:00<?, ?it/s]"
      ]
     },
     "metadata": {},
     "output_type": "display_data"
    }
   ],
   "source": [
    "# Load test data\n",
    "X_test, ids_test = load_mean_pool_data(df_test, path_to_features=Path('/Data_hackathon/MocoCoadReduced/TCGA_LUAD/'))\n",
    "X_, ids_ = load_mean_pool_data(df_test, path_to_features=Path('/Data_hackathon/MocoCoadReduced/TCGA_LUSC/'))\n",
    "X_test = np.concatenate([X_test, X_])\n",
    "ids_test = np.concatenate([ids_test, ids_])\n",
    "\n",
    "X_, ids_ = load_mean_pool_data(df_test, path_to_features=Path('/Data_hackathon/MocoCoadReduced/TCGA_COAD/'))\n",
    "X_test = np.concatenate([X_test, X_])\n",
    "ids_test = np.concatenate([ids_test, ids_])\n",
    "\n",
    "X_, ids_ = load_mean_pool_data(df_test, path_to_features=Path('/Data_hackathon/MocoCoadReduced/TCGA_READ/'))\n",
    "X_test = np.concatenate([X_test, X_])\n",
    "ids_test = np.concatenate([ids_test, ids_])\n",
    "\n",
    "X_, ids_ = load_mean_pool_data(df_test, path_to_features=Path('/Data_hackathon/MocoCoadReduced/TCGA_PAAD/'))\n",
    "X_test = np.concatenate([X_test, X_])\n",
    "ids_test = np.concatenate([ids_test, ids_])"
   ]
  },
  {
   "cell_type": "code",
   "execution_count": 90,
   "metadata": {
    "ExecuteTime": {
     "end_time": "2022-03-30T14:17:39.922968Z",
     "start_time": "2022-03-30T14:17:39.919458Z"
    },
    "hidden": true
   },
   "outputs": [
    {
     "data": {
      "text/plain": [
       "((1459, 256), (1459,), (370, 256), (370,))"
      ]
     },
     "execution_count": 90,
     "metadata": {},
     "output_type": "execute_result"
    }
   ],
   "source": [
    "X.shape, ids.shape, X_test.shape, ids_test.shape"
   ]
  },
  {
   "cell_type": "code",
   "execution_count": 91,
   "metadata": {
    "ExecuteTime": {
     "end_time": "2022-03-30T14:17:41.097840Z",
     "start_time": "2022-03-30T14:17:41.094871Z"
    },
    "hidden": true
   },
   "outputs": [],
   "source": [
    "default_params = {\n",
    "    'TCGA-NSCLC': {'dim': 256, 'p': 1},\n",
    "    'TCGA-CRC': {'dim': 256, 'p': 0.1},\n",
    "    'TCGA-PAAD': {'dim': 256, 'p': 100}\n",
    "}"
   ]
  },
  {
   "cell_type": "code",
   "execution_count": 61,
   "metadata": {
    "ExecuteTime": {
     "end_time": "2022-03-30T14:01:08.539505Z",
     "start_time": "2022-03-30T14:01:08.537439Z"
    },
    "hidden": true
   },
   "outputs": [],
   "source": [
    "# Select one of the cancers here\n",
    "project_id = 'TCGA-CRC'"
   ]
  },
  {
   "cell_type": "code",
   "execution_count": 62,
   "metadata": {
    "ExecuteTime": {
     "end_time": "2022-03-30T14:02:32.003963Z",
     "start_time": "2022-03-30T14:02:32.000184Z"
    },
    "hidden": true
   },
   "outputs": [
    {
     "data": {
      "text/plain": [
       "(1459, 256)"
      ]
     },
     "execution_count": 62,
     "metadata": {},
     "output_type": "execute_result"
    }
   ],
   "source": [
    "X.shape"
   ]
  },
  {
   "cell_type": "code",
   "execution_count": 63,
   "metadata": {
    "ExecuteTime": {
     "end_time": "2022-03-30T14:02:37.369295Z",
     "start_time": "2022-03-30T14:02:37.360044Z"
    },
    "hidden": true
   },
   "outputs": [],
   "source": [
    "metrics = []\n",
    "y = df.set_index('patient').loc[ids, ['time', 'event']].values.astype(float)\n",
    "cancer = df.set_index('patient').loc[ids, 'cancer'].values\n",
    "cancer_test = df_test.set_index('patient').loc[ids_test, 'cancer'].values"
   ]
  },
  {
   "cell_type": "code",
   "execution_count": 67,
   "metadata": {
    "ExecuteTime": {
     "end_time": "2022-03-30T14:06:19.394541Z",
     "start_time": "2022-03-30T14:05:40.616850Z"
    },
    "hidden": true,
    "scrolled": false
   },
   "outputs": [
    {
     "name": "stdout",
     "output_type": "stream",
     "text": [
      "C-index on fold 0: 0.4617\n",
      "C-index on fold 1: 0.6493\n",
      "C-index on fold 2: 0.5907\n",
      "C-index on fold 3: 0.7020\n",
      "C-index on fold 4: 0.6778\n",
      "-----------------\n",
      "C-index on fold 0: 0.6244\n",
      "C-index on fold 1: 0.5750\n",
      "C-index on fold 2: 0.5980\n",
      "C-index on fold 3: 0.6127\n",
      "C-index on fold 4: 0.6107\n",
      "-----------------\n",
      "C-index on fold 0: 0.5857\n",
      "C-index on fold 1: 0.6380\n",
      "C-index on fold 2: 0.6984\n",
      "C-index on fold 3: 0.6660\n",
      "C-index on fold 4: 0.5576\n",
      "-----------------\n",
      "C-index on fold 0: 0.6000\n",
      "C-index on fold 1: 0.6309\n",
      "C-index on fold 2: 0.6520\n",
      "C-index on fold 3: 0.6354\n",
      "C-index on fold 4: 0.5380\n",
      "-----------------\n",
      "C-index on fold 0: 0.7484\n",
      "C-index on fold 1: 0.5567\n",
      "C-index on fold 2: 0.7079\n",
      "C-index on fold 3: 0.5488\n",
      "C-index on fold 4: 0.6266\n",
      "-----------------\n"
     ]
    }
   ],
   "source": [
    "X_ = X[cancer == project_id]\n",
    "y_ = y[cancer == project_id]\n",
    "ids_ = ids[cancer == project_id]\n",
    "cancer_ = cancer[cancer == project_id]\n",
    "\n",
    "X_test_ = X_test[cancer_test == project_id]\n",
    "ids_test_ = ids_test[cancer_test == project_id]\n",
    "pred_test = 0\n",
    "\n",
    "for k in range(5):\n",
    "\n",
    "    kf = StratifiedGroupKFold(n_splits=5, shuffle=True, random_state=k)\n",
    "    fold = 0\n",
    "\n",
    "    for train_idx, val_idx in kf.split(ids_, y_[:, 1], groups=ids_):\n",
    "\n",
    "        X_train = X_[train_idx]\n",
    "        X_val = X_[val_idx]\n",
    "        y_train = y_[train_idx]\n",
    "        y_val = y_[val_idx]\n",
    "        ids_val = ids_[val_idx]\n",
    "        \n",
    "        # Possibility to reduce dimensions with PCA because lifelines.CoxPHFitter may have\n",
    "        # trouble converging in high dimension\n",
    "        dim = default_params[project_id]['dim']\n",
    "        X_test__ = cp.copy(X_test_)\n",
    "        if dim < 256:\n",
    "            pca = PCA(dim)\n",
    "            X_train = pca.fit_transform(X_train)\n",
    "            X_val = pca.transform(X_val)\n",
    "            X_test__ = pca.transform(X_test__)\n",
    "\n",
    "        data_train = pd.DataFrame(X_train)\n",
    "        data_train['t'] = y_train[:, 0]\n",
    "        data_train['e'] = y_train[:, 1]\n",
    "\n",
    "        cph = lifelines.CoxPHFitter(penalizer=default_params[project_id]['p'])\n",
    "        cph.fit(data_train, 't', event_col='e', show_progress=False, step_size=0.2)\n",
    "\n",
    "        pred_val = cph.predict_expectation(X_val)\n",
    "        pred_test += cph.predict_expectation(X_test__).values / 25\n",
    "\n",
    "        time = y_val[:, 0]\n",
    "        event = y_val[:, 1]\n",
    "\n",
    "        df_val = pd.DataFrame(\n",
    "            {\n",
    "                'patient': ids_val,\n",
    "                'time': time,\n",
    "                'pred': pred_val,\n",
    "                'event': event,\n",
    "            }\n",
    "        )\n",
    "        c = lifelines.utils.concordance_index(\n",
    "            event_times=df_val['time'],\n",
    "            predicted_scores=df_val['pred'],\n",
    "            event_observed=df_val['event']\n",
    "        )\n",
    "        print(f'C-index on fold {fold}: {c:.4f}')\n",
    "        metrics.append(c)\n",
    "        fold += 1\n",
    "    print('-----------------')"
   ]
  },
  {
   "cell_type": "code",
   "execution_count": 15,
   "metadata": {
    "ExecuteTime": {
     "end_time": "2022-03-28T07:36:23.491074Z",
     "start_time": "2022-03-28T07:36:23.472887Z"
    },
    "hidden": true
   },
   "outputs": [
    {
     "data": {
      "text/plain": [
       "0.619708026484489"
      ]
     },
     "execution_count": 15,
     "metadata": {},
     "output_type": "execute_result"
    }
   ],
   "source": [
    "np.mean(metrics)"
   ]
  },
  {
   "cell_type": "code",
   "execution_count": 16,
   "metadata": {
    "ExecuteTime": {
     "end_time": "2022-03-25T13:58:39.900993Z",
     "start_time": "2022-03-25T13:58:39.878542Z"
    },
    "hidden": true
   },
   "outputs": [],
   "source": [
    "# Save prediction for the selected cancer\n",
    "pred_test = pd.DataFrame({'patient': ids_test_, 'risk': pred_test })\n",
    "pred_test.to_csv(f'preds_{project_id}_histo.csv', index=False)"
   ]
  },
  {
   "cell_type": "code",
   "execution_count": 17,
   "metadata": {
    "ExecuteTime": {
     "end_time": "2022-03-25T14:15:08.632919Z",
     "start_time": "2022-03-25T14:15:08.610301Z"
    },
    "hidden": true
   },
   "outputs": [
    {
     "ename": "FileNotFoundError",
     "evalue": "[Errno 2] No such file or directory: 'preds_TCGA-NSCLC_histo.csv'",
     "output_type": "error",
     "traceback": [
      "\u001b[0;31m---------------------------------------------------------------------------\u001b[0m",
      "\u001b[0;31mFileNotFoundError\u001b[0m                         Traceback (most recent call last)",
      "\u001b[0;32m<ipython-input-17-2f13605c9c80>\u001b[0m in \u001b[0;36m<module>\u001b[0;34m\u001b[0m\n\u001b[1;32m      3\u001b[0m pd.concat(\n\u001b[1;32m      4\u001b[0m     [\n\u001b[0;32m----> 5\u001b[0;31m         \u001b[0mpd\u001b[0m\u001b[0;34m.\u001b[0m\u001b[0mread_csv\u001b[0m\u001b[0;34m(\u001b[0m\u001b[0;34m'preds_TCGA-NSCLC_histo.csv'\u001b[0m\u001b[0;34m)\u001b[0m\u001b[0;34m,\u001b[0m\u001b[0;34m\u001b[0m\u001b[0;34m\u001b[0m\u001b[0m\n\u001b[0m\u001b[1;32m      6\u001b[0m         \u001b[0mpd\u001b[0m\u001b[0;34m.\u001b[0m\u001b[0mread_csv\u001b[0m\u001b[0;34m(\u001b[0m\u001b[0;34m'preds_TCGA-CRC_histo.csv'\u001b[0m\u001b[0;34m)\u001b[0m\u001b[0;34m,\u001b[0m\u001b[0;34m\u001b[0m\u001b[0;34m\u001b[0m\u001b[0m\n\u001b[1;32m      7\u001b[0m         \u001b[0mpd\u001b[0m\u001b[0;34m.\u001b[0m\u001b[0mread_csv\u001b[0m\u001b[0;34m(\u001b[0m\u001b[0;34m'preds_TCGA-PAAD_histo.csv'\u001b[0m\u001b[0;34m)\u001b[0m\u001b[0;34m,\u001b[0m\u001b[0;34m\u001b[0m\u001b[0;34m\u001b[0m\u001b[0m\n",
      "\u001b[0;32m/opt/conda/lib/python3.8/site-packages/pandas/io/parsers.py\u001b[0m in \u001b[0;36mread_csv\u001b[0;34m(filepath_or_buffer, sep, delimiter, header, names, index_col, usecols, squeeze, prefix, mangle_dupe_cols, dtype, engine, converters, true_values, false_values, skipinitialspace, skiprows, skipfooter, nrows, na_values, keep_default_na, na_filter, verbose, skip_blank_lines, parse_dates, infer_datetime_format, keep_date_col, date_parser, dayfirst, cache_dates, iterator, chunksize, compression, thousands, decimal, lineterminator, quotechar, quoting, doublequote, escapechar, comment, encoding, dialect, error_bad_lines, warn_bad_lines, delim_whitespace, low_memory, memory_map, float_precision, storage_options)\u001b[0m\n\u001b[1;32m    608\u001b[0m     \u001b[0mkwds\u001b[0m\u001b[0;34m.\u001b[0m\u001b[0mupdate\u001b[0m\u001b[0;34m(\u001b[0m\u001b[0mkwds_defaults\u001b[0m\u001b[0;34m)\u001b[0m\u001b[0;34m\u001b[0m\u001b[0;34m\u001b[0m\u001b[0m\n\u001b[1;32m    609\u001b[0m \u001b[0;34m\u001b[0m\u001b[0m\n\u001b[0;32m--> 610\u001b[0;31m     \u001b[0;32mreturn\u001b[0m \u001b[0m_read\u001b[0m\u001b[0;34m(\u001b[0m\u001b[0mfilepath_or_buffer\u001b[0m\u001b[0;34m,\u001b[0m \u001b[0mkwds\u001b[0m\u001b[0;34m)\u001b[0m\u001b[0;34m\u001b[0m\u001b[0;34m\u001b[0m\u001b[0m\n\u001b[0m\u001b[1;32m    611\u001b[0m \u001b[0;34m\u001b[0m\u001b[0m\n\u001b[1;32m    612\u001b[0m \u001b[0;34m\u001b[0m\u001b[0m\n",
      "\u001b[0;32m/opt/conda/lib/python3.8/site-packages/pandas/io/parsers.py\u001b[0m in \u001b[0;36m_read\u001b[0;34m(filepath_or_buffer, kwds)\u001b[0m\n\u001b[1;32m    460\u001b[0m \u001b[0;34m\u001b[0m\u001b[0m\n\u001b[1;32m    461\u001b[0m     \u001b[0;31m# Create the parser.\u001b[0m\u001b[0;34m\u001b[0m\u001b[0;34m\u001b[0m\u001b[0;34m\u001b[0m\u001b[0m\n\u001b[0;32m--> 462\u001b[0;31m     \u001b[0mparser\u001b[0m \u001b[0;34m=\u001b[0m \u001b[0mTextFileReader\u001b[0m\u001b[0;34m(\u001b[0m\u001b[0mfilepath_or_buffer\u001b[0m\u001b[0;34m,\u001b[0m \u001b[0;34m**\u001b[0m\u001b[0mkwds\u001b[0m\u001b[0;34m)\u001b[0m\u001b[0;34m\u001b[0m\u001b[0;34m\u001b[0m\u001b[0m\n\u001b[0m\u001b[1;32m    463\u001b[0m \u001b[0;34m\u001b[0m\u001b[0m\n\u001b[1;32m    464\u001b[0m     \u001b[0;32mif\u001b[0m \u001b[0mchunksize\u001b[0m \u001b[0;32mor\u001b[0m \u001b[0miterator\u001b[0m\u001b[0;34m:\u001b[0m\u001b[0;34m\u001b[0m\u001b[0;34m\u001b[0m\u001b[0m\n",
      "\u001b[0;32m/opt/conda/lib/python3.8/site-packages/pandas/io/parsers.py\u001b[0m in \u001b[0;36m__init__\u001b[0;34m(self, f, engine, **kwds)\u001b[0m\n\u001b[1;32m    817\u001b[0m             \u001b[0mself\u001b[0m\u001b[0;34m.\u001b[0m\u001b[0moptions\u001b[0m\u001b[0;34m[\u001b[0m\u001b[0;34m\"has_index_names\"\u001b[0m\u001b[0;34m]\u001b[0m \u001b[0;34m=\u001b[0m \u001b[0mkwds\u001b[0m\u001b[0;34m[\u001b[0m\u001b[0;34m\"has_index_names\"\u001b[0m\u001b[0;34m]\u001b[0m\u001b[0;34m\u001b[0m\u001b[0;34m\u001b[0m\u001b[0m\n\u001b[1;32m    818\u001b[0m \u001b[0;34m\u001b[0m\u001b[0m\n\u001b[0;32m--> 819\u001b[0;31m         \u001b[0mself\u001b[0m\u001b[0;34m.\u001b[0m\u001b[0m_engine\u001b[0m \u001b[0;34m=\u001b[0m \u001b[0mself\u001b[0m\u001b[0;34m.\u001b[0m\u001b[0m_make_engine\u001b[0m\u001b[0;34m(\u001b[0m\u001b[0mself\u001b[0m\u001b[0;34m.\u001b[0m\u001b[0mengine\u001b[0m\u001b[0;34m)\u001b[0m\u001b[0;34m\u001b[0m\u001b[0;34m\u001b[0m\u001b[0m\n\u001b[0m\u001b[1;32m    820\u001b[0m \u001b[0;34m\u001b[0m\u001b[0m\n\u001b[1;32m    821\u001b[0m     \u001b[0;32mdef\u001b[0m \u001b[0mclose\u001b[0m\u001b[0;34m(\u001b[0m\u001b[0mself\u001b[0m\u001b[0;34m)\u001b[0m\u001b[0;34m:\u001b[0m\u001b[0;34m\u001b[0m\u001b[0;34m\u001b[0m\u001b[0m\n",
      "\u001b[0;32m/opt/conda/lib/python3.8/site-packages/pandas/io/parsers.py\u001b[0m in \u001b[0;36m_make_engine\u001b[0;34m(self, engine)\u001b[0m\n\u001b[1;32m   1048\u001b[0m             )\n\u001b[1;32m   1049\u001b[0m         \u001b[0;31m# error: Too many arguments for \"ParserBase\"\u001b[0m\u001b[0;34m\u001b[0m\u001b[0;34m\u001b[0m\u001b[0;34m\u001b[0m\u001b[0m\n\u001b[0;32m-> 1050\u001b[0;31m         \u001b[0;32mreturn\u001b[0m \u001b[0mmapping\u001b[0m\u001b[0;34m[\u001b[0m\u001b[0mengine\u001b[0m\u001b[0;34m]\u001b[0m\u001b[0;34m(\u001b[0m\u001b[0mself\u001b[0m\u001b[0;34m.\u001b[0m\u001b[0mf\u001b[0m\u001b[0;34m,\u001b[0m \u001b[0;34m**\u001b[0m\u001b[0mself\u001b[0m\u001b[0;34m.\u001b[0m\u001b[0moptions\u001b[0m\u001b[0;34m)\u001b[0m  \u001b[0;31m# type: ignore[call-arg]\u001b[0m\u001b[0;34m\u001b[0m\u001b[0;34m\u001b[0m\u001b[0m\n\u001b[0m\u001b[1;32m   1051\u001b[0m \u001b[0;34m\u001b[0m\u001b[0m\n\u001b[1;32m   1052\u001b[0m     \u001b[0;32mdef\u001b[0m \u001b[0m_failover_to_python\u001b[0m\u001b[0;34m(\u001b[0m\u001b[0mself\u001b[0m\u001b[0;34m)\u001b[0m\u001b[0;34m:\u001b[0m\u001b[0;34m\u001b[0m\u001b[0;34m\u001b[0m\u001b[0m\n",
      "\u001b[0;32m/opt/conda/lib/python3.8/site-packages/pandas/io/parsers.py\u001b[0m in \u001b[0;36m__init__\u001b[0;34m(self, src, **kwds)\u001b[0m\n\u001b[1;32m   1865\u001b[0m \u001b[0;34m\u001b[0m\u001b[0m\n\u001b[1;32m   1866\u001b[0m         \u001b[0;31m# open handles\u001b[0m\u001b[0;34m\u001b[0m\u001b[0;34m\u001b[0m\u001b[0;34m\u001b[0m\u001b[0m\n\u001b[0;32m-> 1867\u001b[0;31m         \u001b[0mself\u001b[0m\u001b[0;34m.\u001b[0m\u001b[0m_open_handles\u001b[0m\u001b[0;34m(\u001b[0m\u001b[0msrc\u001b[0m\u001b[0;34m,\u001b[0m \u001b[0mkwds\u001b[0m\u001b[0;34m)\u001b[0m\u001b[0;34m\u001b[0m\u001b[0;34m\u001b[0m\u001b[0m\n\u001b[0m\u001b[1;32m   1868\u001b[0m         \u001b[0;32massert\u001b[0m \u001b[0mself\u001b[0m\u001b[0;34m.\u001b[0m\u001b[0mhandles\u001b[0m \u001b[0;32mis\u001b[0m \u001b[0;32mnot\u001b[0m \u001b[0;32mNone\u001b[0m\u001b[0;34m\u001b[0m\u001b[0;34m\u001b[0m\u001b[0m\n\u001b[1;32m   1869\u001b[0m         \u001b[0;32mfor\u001b[0m \u001b[0mkey\u001b[0m \u001b[0;32min\u001b[0m \u001b[0;34m(\u001b[0m\u001b[0;34m\"storage_options\"\u001b[0m\u001b[0;34m,\u001b[0m \u001b[0;34m\"encoding\"\u001b[0m\u001b[0;34m,\u001b[0m \u001b[0;34m\"memory_map\"\u001b[0m\u001b[0;34m,\u001b[0m \u001b[0;34m\"compression\"\u001b[0m\u001b[0;34m)\u001b[0m\u001b[0;34m:\u001b[0m\u001b[0;34m\u001b[0m\u001b[0;34m\u001b[0m\u001b[0m\n",
      "\u001b[0;32m/opt/conda/lib/python3.8/site-packages/pandas/io/parsers.py\u001b[0m in \u001b[0;36m_open_handles\u001b[0;34m(self, src, kwds)\u001b[0m\n\u001b[1;32m   1360\u001b[0m         \u001b[0mLet\u001b[0m \u001b[0mthe\u001b[0m \u001b[0mreaders\u001b[0m \u001b[0mopen\u001b[0m \u001b[0mIOHanldes\u001b[0m \u001b[0mafter\u001b[0m \u001b[0mthey\u001b[0m \u001b[0mare\u001b[0m \u001b[0mdone\u001b[0m \u001b[0;32mwith\u001b[0m \u001b[0mtheir\u001b[0m \u001b[0mpotential\u001b[0m \u001b[0mraises\u001b[0m\u001b[0;34m.\u001b[0m\u001b[0;34m\u001b[0m\u001b[0;34m\u001b[0m\u001b[0m\n\u001b[1;32m   1361\u001b[0m         \"\"\"\n\u001b[0;32m-> 1362\u001b[0;31m         self.handles = get_handle(\n\u001b[0m\u001b[1;32m   1363\u001b[0m             \u001b[0msrc\u001b[0m\u001b[0;34m,\u001b[0m\u001b[0;34m\u001b[0m\u001b[0;34m\u001b[0m\u001b[0m\n\u001b[1;32m   1364\u001b[0m             \u001b[0;34m\"r\"\u001b[0m\u001b[0;34m,\u001b[0m\u001b[0;34m\u001b[0m\u001b[0;34m\u001b[0m\u001b[0m\n",
      "\u001b[0;32m/opt/conda/lib/python3.8/site-packages/pandas/io/common.py\u001b[0m in \u001b[0;36mget_handle\u001b[0;34m(path_or_buf, mode, encoding, compression, memory_map, is_text, errors, storage_options)\u001b[0m\n\u001b[1;32m    645\u001b[0m                 \u001b[0merrors\u001b[0m \u001b[0;34m=\u001b[0m \u001b[0;34m\"replace\"\u001b[0m\u001b[0;34m\u001b[0m\u001b[0;34m\u001b[0m\u001b[0m\n\u001b[1;32m    646\u001b[0m             \u001b[0;31m# Encoding\u001b[0m\u001b[0;34m\u001b[0m\u001b[0;34m\u001b[0m\u001b[0;34m\u001b[0m\u001b[0m\n\u001b[0;32m--> 647\u001b[0;31m             handle = open(\n\u001b[0m\u001b[1;32m    648\u001b[0m                 \u001b[0mhandle\u001b[0m\u001b[0;34m,\u001b[0m\u001b[0;34m\u001b[0m\u001b[0;34m\u001b[0m\u001b[0m\n\u001b[1;32m    649\u001b[0m                 \u001b[0mioargs\u001b[0m\u001b[0;34m.\u001b[0m\u001b[0mmode\u001b[0m\u001b[0;34m,\u001b[0m\u001b[0;34m\u001b[0m\u001b[0;34m\u001b[0m\u001b[0m\n",
      "\u001b[0;31mFileNotFoundError\u001b[0m: [Errno 2] No such file or directory: 'preds_TCGA-NSCLC_histo.csv'"
     ]
    }
   ],
   "source": [
    "# Once this is done for every cancer, gather predictions in a single file\n",
    "pd.concat(\n",
    "    [\n",
    "        pd.read_csv('preds_TCGA-NSCLC_histo.csv'),\n",
    "        pd.read_csv('preds_TCGA-CRC_histo.csv'),\n",
    "        pd.read_csv('preds_TCGA-PAAD_histo.csv'),\n",
    "    ]\n",
    ").to_csv('preds_baseline_histo.csv', index=False)"
   ]
  },
  {
   "cell_type": "markdown",
   "metadata": {},
   "source": [
    "# RNAseq"
   ]
  },
  {
   "cell_type": "markdown",
   "metadata": {},
   "source": [
    "Here we will use the RNAseq baseline not only to compute risk scores but also to extract genes"
   ]
  },
  {
   "cell_type": "code",
   "execution_count": 94,
   "metadata": {
    "ExecuteTime": {
     "end_time": "2022-03-30T14:18:46.324648Z",
     "start_time": "2022-03-30T14:18:24.859312Z"
    }
   },
   "outputs": [],
   "source": [
    "df_rna = pd.read_csv(\n",
    "    '/Data_hackathon/Workflow_outputs/LUAD/LUAD_FPKM-UQ_counts.tsv',\n",
    "    sep='\\t').set_index('gene').T\n",
    "\n",
    "df_rna = pd.concat([\n",
    "    df_rna,\n",
    "    pd.read_csv(\n",
    "        '/Data_hackathon/Workflow_outputs/LUSC/LUSC_FPKM-UQ_counts.tsv',\n",
    "        sep='\\t'\n",
    "    ).set_index('gene').T\n",
    "])\n",
    "\n",
    "df_rna = pd.concat([\n",
    "    df_rna,\n",
    "    pd.read_csv(\n",
    "        '/Data_hackathon/Workflow_outputs/COAD/COAD_FPKM-UQ_counts.tsv',\n",
    "        sep='\\t'\n",
    "    ).set_index('gene').T\n",
    "])\n",
    "\n",
    "df_rna = pd.concat([\n",
    "    df_rna,\n",
    "    pd.read_csv(\n",
    "        '/Data_hackathon/Workflow_outputs/READ/READ_FPKM-UQ_counts.tsv',\n",
    "        sep='\\t'\n",
    "    ).set_index('gene').T\n",
    "])\n",
    "\n",
    "df_rna = pd.concat([\n",
    "    df_rna,\n",
    "    pd.read_csv(\n",
    "        '/Data_hackathon/Workflow_outputs/PAAD/PAAD_FPKM-UQ_counts.tsv',\n",
    "        sep='\\t'\n",
    "    ).set_index('gene').T\n",
    "])\n",
    "\n",
    "# Exclude genes that have null median expression\n",
    "columns_to_keep = df_rna.columns[df_rna.median() > 0]\n",
    "df_rna = df_rna[columns_to_keep]\n",
    "genes = df_rna.columns"
   ]
  },
  {
   "cell_type": "code",
   "execution_count": 95,
   "metadata": {
    "ExecuteTime": {
     "end_time": "2022-03-30T14:18:46.332493Z",
     "start_time": "2022-03-30T14:18:46.326217Z"
    }
   },
   "outputs": [
    {
     "data": {
      "text/plain": [
       "TCGA-55-6975-01A-11R-1949-07    1\n",
       "TCGA-2J-AABI-01A-12R-A41B-07    1\n",
       "TCGA-69-7979-01A-11R-2187-07    1\n",
       "TCGA-85-A512-01A-11R-A26W-07    1\n",
       "TCGA-50-5045-01A-01R-1628-07    1\n",
       "                               ..\n",
       "TCGA-AD-6890-01A-11R-1928-07    1\n",
       "TCGA-L4-A4E6-01A-11R-A24H-07    1\n",
       "TCGA-G5-6572-01A-11R-1830-07    1\n",
       "TCGA-77-A5G6-01A-11R-A27Q-07    1\n",
       "TCGA-22-5479-01A-31R-1949-07    1\n",
       "Length: 1902, dtype: int64"
      ]
     },
     "execution_count": 95,
     "metadata": {},
     "output_type": "execute_result"
    }
   ],
   "source": [
    "pd.Series(df_rna.index).value_counts()"
   ]
  },
  {
   "cell_type": "code",
   "execution_count": 96,
   "metadata": {
    "ExecuteTime": {
     "end_time": "2022-03-30T14:18:46.338958Z",
     "start_time": "2022-03-30T14:18:46.333536Z"
    }
   },
   "outputs": [
    {
     "data": {
      "text/plain": [
       "TCGA-CM-6171    1\n",
       "TCGA-NJ-A4YF    1\n",
       "TCGA-AF-2690    1\n",
       "TCGA-95-7567    1\n",
       "TCGA-AA-A01G    1\n",
       "               ..\n",
       "TCGA-78-8640    1\n",
       "TCGA-F4-6704    1\n",
       "TCGA-AA-3675    1\n",
       "TCGA-D5-6923    1\n",
       "TCGA-18-3410    1\n",
       "Name: patient, Length: 1374, dtype: int64"
      ]
     },
     "execution_count": 96,
     "metadata": {},
     "output_type": "execute_result"
    }
   ],
   "source": [
    "df['patient'].value_counts()"
   ]
  },
  {
   "cell_type": "code",
   "execution_count": 97,
   "metadata": {
    "ExecuteTime": {
     "end_time": "2022-03-30T14:18:47.866144Z",
     "start_time": "2022-03-30T14:18:46.340359Z"
    }
   },
   "outputs": [],
   "source": [
    "# Use the log because gene expressions cover several orders of magnitude\n",
    "X = np.log(\n",
    "    1 + df_rna.fillna(0).values\n",
    ")\n",
    "\n",
    "# Scale\n",
    "X = (X - np.mean(X, axis=0)) / np.std(X, axis=0)\n",
    "\n",
    "ids = pd.Series(df_rna.index).apply(lambda x: x[:12])"
   ]
  },
  {
   "cell_type": "code",
   "execution_count": 98,
   "metadata": {
    "ExecuteTime": {
     "end_time": "2022-03-30T14:18:47.873559Z",
     "start_time": "2022-03-30T14:18:47.867485Z"
    }
   },
   "outputs": [
    {
     "data": {
      "text/plain": [
       "TCGA-44-2668    4\n",
       "TCGA-44-6146    4\n",
       "TCGA-A6-5659    4\n",
       "TCGA-44-6147    4\n",
       "TCGA-A6-2684    4\n",
       "               ..\n",
       "TCGA-93-8067    1\n",
       "TCGA-85-A53L    1\n",
       "TCGA-77-6843    1\n",
       "TCGA-AA-3980    1\n",
       "TCGA-DY-A1DE    1\n",
       "Length: 1715, dtype: int64"
      ]
     },
     "execution_count": 98,
     "metadata": {},
     "output_type": "execute_result"
    }
   ],
   "source": [
    "ids.value_counts()"
   ]
  },
  {
   "cell_type": "code",
   "execution_count": 101,
   "metadata": {
    "ExecuteTime": {
     "end_time": "2022-03-30T14:20:05.348995Z",
     "start_time": "2022-03-30T14:20:04.967397Z"
    }
   },
   "outputs": [],
   "source": [
    "# define test and CV data\n",
    "X_test = X[ids.isin(df_test['patient']).values]\n",
    "X = X[ids.isin(df['patient']).values]\n",
    "\n",
    "ids_test = ids[ids.isin(df_test['patient']).values].values\n",
    "ids = ids[ids.isin(df['patient']).values].values\n",
    "\n",
    "y = df.set_index('patient').loc[ids, ['time', 'event']].values.astype(float)\n",
    "gene_importances = pd.DataFrame()"
   ]
  },
  {
   "cell_type": "code",
   "execution_count": 102,
   "metadata": {
    "ExecuteTime": {
     "end_time": "2022-03-30T14:20:06.566614Z",
     "start_time": "2022-03-30T14:20:06.563670Z"
    }
   },
   "outputs": [],
   "source": [
    "default_params = {\n",
    "    'TCGA-NSCLC': {'dim': 50, 'p': 10},\n",
    "    'TCGA-CRC': {'dim': 200, 'p': 1},\n",
    "    'TCGA-PAAD': {'dim': 100, 'p': 0.1}\n",
    "}"
   ]
  },
  {
   "cell_type": "code",
   "execution_count": 103,
   "metadata": {
    "ExecuteTime": {
     "end_time": "2022-03-30T14:20:14.067148Z",
     "start_time": "2022-03-30T14:20:14.064976Z"
    }
   },
   "outputs": [],
   "source": [
    "# Select one of the cancers here\n",
    "project_id = 'TCGA-PAAD'"
   ]
  },
  {
   "cell_type": "code",
   "execution_count": 104,
   "metadata": {
    "ExecuteTime": {
     "end_time": "2022-03-30T14:20:14.590890Z",
     "start_time": "2022-03-30T14:20:14.581063Z"
    }
   },
   "outputs": [],
   "source": [
    "metrics = []\n",
    "y = df.set_index('patient').loc[ids, ['time', 'event']].values.astype(float)\n",
    "cancer = df.set_index('patient').loc[ids, 'cancer'].values\n",
    "cancer_test = df_test.set_index('patient').loc[ids_test, 'cancer'].values"
   ]
  },
  {
   "cell_type": "code",
   "execution_count": 106,
   "metadata": {
    "ExecuteTime": {
     "end_time": "2022-03-30T14:23:18.527959Z",
     "start_time": "2022-03-30T14:23:18.297282Z"
    }
   },
   "outputs": [],
   "source": [
    "metrics = []\n",
    "y = df.set_index('patient').loc[ids, ['time', 'event']].values.astype(float)\n",
    "cancer = df.set_index('patient').loc[ids, 'cancer'].values\n",
    "cancer_test = df_test.set_index('patient').loc[ids_test, 'cancer'].values\n",
    "\n",
    "X_ = X[cancer == project_id]\n",
    "y_ = y[cancer == project_id]\n",
    "ids_ = ids[cancer == project_id]\n",
    "cancer_ = cancer[cancer == project_id]\n",
    "\n",
    "X_test_ = X_test[cancer_test == project_id]\n",
    "ids_test_ = ids_test[cancer_test == project_id]\n",
    "pred_test = 0\n",
    "\n",
    "gene_importance = []\n",
    "\n",
    "for k in range(5):\n",
    "\n",
    "    kf = StratifiedGroupKFold(n_splits=5, shuffle=True, random_state=k)\n",
    "    fold = 0\n",
    "\n",
    "    for train_idx, val_idx in kf.split(ids_, y_[:, 1], groups=ids_):\n",
    "        break"
   ]
  },
  {
   "cell_type": "code",
   "execution_count": null,
   "metadata": {},
   "outputs": [],
   "source": []
  },
  {
   "cell_type": "code",
   "execution_count": null,
   "metadata": {},
   "outputs": [],
   "source": []
  },
  {
   "cell_type": "code",
   "execution_count": 107,
   "metadata": {
    "ExecuteTime": {
     "end_time": "2022-03-30T14:23:46.964930Z",
     "start_time": "2022-03-30T14:23:46.955217Z"
    }
   },
   "outputs": [],
   "source": [
    "X_train = X_[train_idx]\n",
    "X_val = X_[val_idx]\n",
    "y_train = y_[train_idx]\n",
    "y_val = y_[val_idx]\n",
    "ids_val = ids_[val_idx]"
   ]
  },
  {
   "cell_type": "code",
   "execution_count": 118,
   "metadata": {
    "ExecuteTime": {
     "end_time": "2022-03-30T14:34:56.962896Z",
     "start_time": "2022-03-30T14:34:56.399120Z"
    }
   },
   "outputs": [
    {
     "data": {
      "text/plain": [
       "cancer\n",
       "TCGA-CRC      0.210744\n",
       "TCGA-NSCLC    0.386667\n",
       "TCGA-PAAD     0.521429\n",
       "Name: event, dtype: float64"
      ]
     },
     "metadata": {},
     "output_type": "display_data"
    },
    {
     "data": {
      "image/png": "[encoded data removed]",
      "text/plain": [
       "<Figure size 1251.97x576 with 3 Axes>"
      ]
     },
     "metadata": {
      "needs_background": "light"
     },
     "output_type": "display_data"
    }
   ],
   "source": [
    "import seaborn as sns\n",
    "\n",
    "display(df.groupby('cancer')['event'].mean())\n",
    "\n",
    "sns.displot(\n",
    "    data=df, x=\"time\", hue=\"event\", col=\"cancer\",\n",
    "    kind=\"ecdf\", height=8, aspect=.7, complementary=True\n",
    ");"
   ]
  },
  {
   "cell_type": "code",
   "execution_count": null,
   "metadata": {},
   "outputs": [],
   "source": [
    "# Here it is mandatory to reduce dimension\n",
    "dim = default_params[project_id]['dim']\n",
    "pca = PCA(dim)\n",
    "X_train = pca.fit_transform(X_train)\n",
    "X_val = pca.transform(X_val)\n",
    "X_test__ = pca.transform(X_test_)\n",
    "\n",
    "# Scale data to ensure Cox beta coefficients are comparable (for gene selection)\n",
    "X_val = (X_val - np.mean(X_train, axis=0)) / np.std(X_train, axis=0)\n",
    "X_test__ = (X_test__ - np.mean(X_train, axis=0)) / np.std(X_train, axis=0)\n",
    "X_train = (X_train - np.mean(X_train, axis=0)) / np.std(X_train, axis=0)\n",
    "\n",
    "data_train = pd.DataFrame(X_train)\n",
    "data_train['t'] = y_train[:, 0]\n",
    "data_train['e'] = y_train[:, 1]\n",
    "\n",
    "cph = lifelines.CoxPHFitter(penalizer=default_params[project_id]['p'])\n",
    "cph.fit(data_train, 't', event_col='e', show_progress=False, step_size=0.2)\n",
    "\n",
    "# As every operation is linear we can extract contribution values per gene\n",
    "coefs = np.dot(cph.params_.values, pca.components_)\n",
    "gene_importance.append(coefs / np.std(coefs))\n",
    "\n",
    "pred_val = cph.predict_expectation(X_val)\n",
    "pred_test += cph.predict_expectation(X_test__).values / 25\n",
    "\n",
    "time = y_val[:, 0]\n",
    "event = y_val[:, 1]\n",
    "\n",
    "df_val = pd.DataFrame(\n",
    "    {\n",
    "        'patient': ids_val,\n",
    "        'time': time,\n",
    "        'pred': pred_val,\n",
    "        'event': event,\n",
    "    }\n",
    ")\n",
    "c = lifelines.utils.concordance_index(\n",
    "    event_times=df_val['time'],\n",
    "    predicted_scores=df_val['pred'],\n",
    "    event_observed=df_val['event']\n",
    ")\n",
    "print(f'C-index on fold {fold}: {c:.4f}')\n",
    "metrics.append(c)\n",
    "fold += 1\n",
    "print('-----------------')"
   ]
  },
  {
   "cell_type": "code",
   "execution_count": null,
   "metadata": {},
   "outputs": [],
   "source": []
  },
  {
   "cell_type": "code",
   "execution_count": null,
   "metadata": {},
   "outputs": [],
   "source": []
  },
  {
   "cell_type": "code",
   "execution_count": 105,
   "metadata": {
    "ExecuteTime": {
     "end_time": "2022-03-30T14:20:56.147758Z",
     "start_time": "2022-03-30T14:20:41.938805Z"
    },
    "code_folding": [
     0
    ],
    "scrolled": true
   },
   "outputs": [
    {
     "name": "stdout",
     "output_type": "stream",
     "text": [
      "C-index on fold 0: 0.4021\n",
      "C-index on fold 1: 0.5892\n",
      "C-index on fold 2: 0.7000\n",
      "C-index on fold 3: 0.5677\n",
      "C-index on fold 4: 0.5038\n",
      "-----------------\n",
      "C-index on fold 0: 0.4864\n",
      "C-index on fold 1: 0.6528\n",
      "C-index on fold 2: 0.5543\n",
      "C-index on fold 3: 0.4875\n",
      "C-index on fold 4: 0.6302\n",
      "-----------------\n",
      "C-index on fold 0: 0.7234\n",
      "C-index on fold 1: 0.6192\n",
      "C-index on fold 2: 0.7299\n",
      "C-index on fold 3: 0.5720\n",
      "C-index on fold 4: 0.4769\n",
      "-----------------\n",
      "C-index on fold 0: 0.5899\n",
      "C-index on fold 1: 0.5789\n",
      "C-index on fold 2: 0.4729\n",
      "C-index on fold 3: 0.4502\n",
      "C-index on fold 4: 0.4925\n",
      "-----------------\n",
      "C-index on fold 0: 0.4958\n",
      "C-index on fold 1: 0.5286\n",
      "C-index on fold 2: 0.6767\n",
      "C-index on fold 3: 0.5233\n",
      "C-index on fold 4: 0.5076\n",
      "-----------------\n"
     ]
    }
   ],
   "source": [
    "# old\n",
    "        X_train = X_[train_idx]\n",
    "        X_val = X_[val_idx]\n",
    "        y_train = y_[train_idx]\n",
    "        y_val = y_[val_idx]\n",
    "        ids_val = ids_[val_idx]\n",
    "        \n",
    "        # Here it is mandatory to reduce dimension\n",
    "        dim = default_params[project_id]['dim']\n",
    "        pca = PCA(dim)\n",
    "        X_train = pca.fit_transform(X_train)\n",
    "        X_val = pca.transform(X_val)\n",
    "        X_test__ = pca.transform(X_test_)\n",
    "\n",
    "        # Scale data to ensure Cox beta coefficients are comparable (for gene selection)\n",
    "        X_val = (X_val - np.mean(X_train, axis=0)) / np.std(X_train, axis=0)\n",
    "        X_test__ = (X_test__ - np.mean(X_train, axis=0)) / np.std(X_train, axis=0)\n",
    "        X_train = (X_train - np.mean(X_train, axis=0)) / np.std(X_train, axis=0)\n",
    "\n",
    "        data_train = pd.DataFrame(X_train)\n",
    "        data_train['t'] = y_train[:, 0]\n",
    "        data_train['e'] = y_train[:, 1]\n",
    "\n",
    "        cph = lifelines.CoxPHFitter(penalizer=default_params[project_id]['p'])\n",
    "        cph.fit(data_train, 't', event_col='e', show_progress=False, step_size=0.2)\n",
    "\n",
    "        # As every operation is linear we can extract contribution values per gene\n",
    "        coefs = np.dot(cph.params_.values, pca.components_)\n",
    "        gene_importance.append(coefs / np.std(coefs))\n",
    "\n",
    "        pred_val = cph.predict_expectation(X_val)\n",
    "        pred_test += cph.predict_expectation(X_test__).values / 25\n",
    "\n",
    "        time = y_val[:, 0]\n",
    "        event = y_val[:, 1]\n",
    "\n",
    "        df_val = pd.DataFrame(\n",
    "            {\n",
    "                'patient': ids_val,\n",
    "                'time': time,\n",
    "                'pred': pred_val,\n",
    "                'event': event,\n",
    "            }\n",
    "        )\n",
    "        c = lifelines.utils.concordance_index(\n",
    "            event_times=df_val['time'],\n",
    "            predicted_scores=df_val['pred'],\n",
    "            event_observed=df_val['event']\n",
    "        )\n",
    "        print(f'C-index on fold {fold}: {c:.4f}')\n",
    "        metrics.append(c)\n",
    "        fold += 1\n",
    "    print('-----------------')"
   ]
  },
  {
   "cell_type": "code",
   "execution_count": 79,
   "metadata": {
    "ExecuteTime": {
     "end_time": "2022-03-28T07:46:37.400928Z",
     "start_time": "2022-03-28T07:46:37.383584Z"
    },
    "scrolled": true
   },
   "outputs": [
    {
     "data": {
      "text/plain": [
       "0.5604680814595968"
      ]
     },
     "execution_count": 79,
     "metadata": {},
     "output_type": "execute_result"
    }
   ],
   "source": [
    "np.mean(metrics)"
   ]
  },
  {
   "cell_type": "code",
   "execution_count": 223,
   "metadata": {
    "ExecuteTime": {
     "end_time": "2022-03-25T14:11:32.703300Z",
     "start_time": "2022-03-25T14:11:32.685357Z"
    }
   },
   "outputs": [],
   "source": [
    "# Save predictions for the selected cancer\n",
    "\n",
    "pred_test = pd.DataFrame({patient: ids_test_, 'risk': pred_test})\n",
    "pred_test.to_csv(f'preds_{project_id}_rnaseq.csv', index=False)"
   ]
  },
  {
   "cell_type": "code",
   "execution_count": 82,
   "metadata": {
    "ExecuteTime": {
     "end_time": "2022-03-28T07:46:51.816147Z",
     "start_time": "2022-03-28T07:46:51.794938Z"
    }
   },
   "outputs": [],
   "source": [
    "# Save weights of genes\n",
    "\n",
    "average_weight = np.mean(gene_importance, axis=0)\n",
    "average_weight = pd.Series(average_weight, index=genes)\n",
    "gene_importances[f'{project_id}'] = average_weight"
   ]
  },
  {
   "cell_type": "code",
   "execution_count": 233,
   "metadata": {
    "ExecuteTime": {
     "end_time": "2022-03-25T14:14:52.973526Z",
     "start_time": "2022-03-25T14:14:52.949848Z"
    }
   },
   "outputs": [],
   "source": [
    "# Once this is done for every cancer, gather predictions in a single file\n",
    "\n",
    "pd.concat(\n",
    "    [\n",
    "        pd.read_csv('preds_TCGA-NSCLC_rnaseq.csv'),\n",
    "        pd.read_csv('preds_TCGA-CRC_rnaseq.csv'),\n",
    "        pd.read_csv('preds_TCGA-PAAD_rnaseq.csv'),\n",
    "    ]\n",
    ").to_csv('preds_baseline_rnaseq.csv', index=False)"
   ]
  },
  {
   "cell_type": "code",
   "execution_count": 225,
   "metadata": {
    "ExecuteTime": {
     "end_time": "2022-03-25T14:11:34.540511Z",
     "start_time": "2022-03-25T14:11:34.515207Z"
    }
   },
   "outputs": [],
   "source": [
    "# Aggregate gene contributions over every cancer\n",
    "\n",
    "top_genes =gene_importances.mean(axis=1).sort_values().tail(50).index.values\n",
    "pkl.dump(top_genes, open('top_50_genes.pkl', 'wb'))"
   ]
  },
  {
   "cell_type": "code",
   "execution_count": null,
   "metadata": {},
   "outputs": [],
   "source": []
  }
 ],
 "metadata": {
  "kernelspec": {
   "display_name": "Python 3",
   "language": "python",
   "name": "python3"
  },
  "language_info": {
   "codemirror_mode": {
    "name": "ipython",
    "version": 3
   },
   "file_extension": ".py",
   "mimetype": "text/x-python",
   "name": "python",
   "nbconvert_exporter": "python",
   "pygments_lexer": "ipython3",
   "version": "3.8.10"
  },
  "toc": {
   "base_numbering": 1,
   "nav_menu": {},
   "number_sections": true,
   "sideBar": true,
   "skip_h1_title": false,
   "title_cell": "Table of Contents",
   "title_sidebar": "Contents",
   "toc_cell": false,
   "toc_position": {},
   "toc_section_display": true,
   "toc_window_display": false
  }
 },
 "nbformat": 4,
 "nbformat_minor": 2
}
